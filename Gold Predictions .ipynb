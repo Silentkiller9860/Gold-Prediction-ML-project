{
 "cells": [
  {
   "cell_type": "code",
   "execution_count": 1,
   "id": "suburban-accommodation",
   "metadata": {},
   "outputs": [],
   "source": [
    "import pandas as pd"
   ]
  },
  {
   "cell_type": "code",
   "execution_count": 2,
   "id": "serial-floor",
   "metadata": {},
   "outputs": [],
   "source": [
    "goldrate = pd.read_csv(\"golddata.csv\")"
   ]
  },
  {
   "cell_type": "code",
   "execution_count": 3,
   "id": "comprehensive-section",
   "metadata": {},
   "outputs": [
    {
     "data": {
      "text/html": [
       "<div>\n",
       "<style scoped>\n",
       "    .dataframe tbody tr th:only-of-type {\n",
       "        vertical-align: middle;\n",
       "    }\n",
       "\n",
       "    .dataframe tbody tr th {\n",
       "        vertical-align: top;\n",
       "    }\n",
       "\n",
       "    .dataframe thead th {\n",
       "        text-align: right;\n",
       "    }\n",
       "</style>\n",
       "<table border=\"1\" class=\"dataframe\">\n",
       "  <thead>\n",
       "    <tr style=\"text-align: right;\">\n",
       "      <th></th>\n",
       "      <th>Date</th>\n",
       "      <th>USD_AM</th>\n",
       "      <th>USD_PM</th>\n",
       "      <th>GBP_AM</th>\n",
       "      <th>GBP_PM</th>\n",
       "      <th>EURO_AM</th>\n",
       "      <th>EURO_PM</th>\n",
       "    </tr>\n",
       "  </thead>\n",
       "  <tbody>\n",
       "    <tr>\n",
       "      <th>0</th>\n",
       "      <td>02-01-2001</td>\n",
       "      <td>272.80</td>\n",
       "      <td>271.10</td>\n",
       "      <td>183.026</td>\n",
       "      <td>181.617</td>\n",
       "      <td>288.677</td>\n",
       "      <td>287.334</td>\n",
       "    </tr>\n",
       "    <tr>\n",
       "      <th>1</th>\n",
       "      <td>03-01-2001</td>\n",
       "      <td>269.00</td>\n",
       "      <td>267.15</td>\n",
       "      <td>178.916</td>\n",
       "      <td>177.390</td>\n",
       "      <td>281.823</td>\n",
       "      <td>281.655</td>\n",
       "    </tr>\n",
       "    <tr>\n",
       "      <th>2</th>\n",
       "      <td>04-01-2001</td>\n",
       "      <td>268.75</td>\n",
       "      <td>267.10</td>\n",
       "      <td>178.869</td>\n",
       "      <td>178.352</td>\n",
       "      <td>282.538</td>\n",
       "      <td>282.049</td>\n",
       "    </tr>\n",
       "    <tr>\n",
       "      <th>3</th>\n",
       "      <td>05-01-2001</td>\n",
       "      <td>268.00</td>\n",
       "      <td>267.40</td>\n",
       "      <td>178.488</td>\n",
       "      <td>178.148</td>\n",
       "      <td>280.775</td>\n",
       "      <td>280.882</td>\n",
       "    </tr>\n",
       "    <tr>\n",
       "      <th>4</th>\n",
       "      <td>08-01-2001</td>\n",
       "      <td>268.60</td>\n",
       "      <td>268.30</td>\n",
       "      <td>178.769</td>\n",
       "      <td>178.664</td>\n",
       "      <td>282.410</td>\n",
       "      <td>282.481</td>\n",
       "    </tr>\n",
       "  </tbody>\n",
       "</table>\n",
       "</div>"
      ],
      "text/plain": [
       "         Date  USD_AM  USD_PM   GBP_AM   GBP_PM  EURO_AM  EURO_PM\n",
       "0  02-01-2001  272.80  271.10  183.026  181.617  288.677  287.334\n",
       "1  03-01-2001  269.00  267.15  178.916  177.390  281.823  281.655\n",
       "2  04-01-2001  268.75  267.10  178.869  178.352  282.538  282.049\n",
       "3  05-01-2001  268.00  267.40  178.488  178.148  280.775  280.882\n",
       "4  08-01-2001  268.60  268.30  178.769  178.664  282.410  282.481"
      ]
     },
     "execution_count": 3,
     "metadata": {},
     "output_type": "execute_result"
    }
   ],
   "source": [
    "goldrate.head()"
   ]
  },
  {
   "cell_type": "code",
   "execution_count": 4,
   "id": "allied-binding",
   "metadata": {},
   "outputs": [
    {
     "name": "stdout",
     "output_type": "stream",
     "text": [
      "<class 'pandas.core.frame.DataFrame'>\n",
      "RangeIndex: 4718 entries, 0 to 4717\n",
      "Data columns (total 7 columns):\n",
      " #   Column   Non-Null Count  Dtype  \n",
      "---  ------   --------------  -----  \n",
      " 0   Date     4718 non-null   object \n",
      " 1   USD_AM   4718 non-null   float64\n",
      " 2   USD_PM   4682 non-null   float64\n",
      " 3   GBP_AM   4718 non-null   float64\n",
      " 4   GBP_PM   4682 non-null   float64\n",
      " 5   EURO_AM  4718 non-null   float64\n",
      " 6   EURO_PM  4682 non-null   float64\n",
      "dtypes: float64(6), object(1)\n",
      "memory usage: 258.1+ KB\n"
     ]
    }
   ],
   "source": [
    "goldrate.info()"
   ]
  },
  {
   "cell_type": "code",
   "execution_count": 6,
   "id": "considerable-singer",
   "metadata": {},
   "outputs": [
    {
     "data": {
      "text/plain": [
       "1237.5    6\n",
       "1311.0    6\n",
       "1316.0    5\n",
       "1206.5    5\n",
       "1285.0    5\n",
       "         ..\n",
       "548.6     1\n",
       "1263.8    1\n",
       "713.0     1\n",
       "494.4     1\n",
       "442.2     1\n",
       "Name: USD_AM, Length: 3723, dtype: int64"
      ]
     },
     "execution_count": 6,
     "metadata": {},
     "output_type": "execute_result"
    }
   ],
   "source": [
    "goldrate['USD_AM']\n",
    "# goldrate['USD_AM'].value_counts()"
   ]
  },
  {
   "cell_type": "code",
   "execution_count": 7,
   "id": "recreational-flashing",
   "metadata": {},
   "outputs": [
    {
     "data": {
      "text/html": [
       "<div>\n",
       "<style scoped>\n",
       "    .dataframe tbody tr th:only-of-type {\n",
       "        vertical-align: middle;\n",
       "    }\n",
       "\n",
       "    .dataframe tbody tr th {\n",
       "        vertical-align: top;\n",
       "    }\n",
       "\n",
       "    .dataframe thead th {\n",
       "        text-align: right;\n",
       "    }\n",
       "</style>\n",
       "<table border=\"1\" class=\"dataframe\">\n",
       "  <thead>\n",
       "    <tr style=\"text-align: right;\">\n",
       "      <th></th>\n",
       "      <th>USD_AM</th>\n",
       "      <th>USD_PM</th>\n",
       "      <th>GBP_AM</th>\n",
       "      <th>GBP_PM</th>\n",
       "      <th>EURO_AM</th>\n",
       "      <th>EURO_PM</th>\n",
       "    </tr>\n",
       "  </thead>\n",
       "  <tbody>\n",
       "    <tr>\n",
       "      <th>count</th>\n",
       "      <td>4718.000000</td>\n",
       "      <td>4682.000000</td>\n",
       "      <td>4718.000000</td>\n",
       "      <td>4682.000000</td>\n",
       "      <td>4718.000000</td>\n",
       "      <td>4682.000000</td>\n",
       "    </tr>\n",
       "    <tr>\n",
       "      <th>mean</th>\n",
       "      <td>959.990812</td>\n",
       "      <td>959.728684</td>\n",
       "      <td>625.068432</td>\n",
       "      <td>624.921846</td>\n",
       "      <td>773.892791</td>\n",
       "      <td>773.843716</td>\n",
       "    </tr>\n",
       "    <tr>\n",
       "      <th>std</th>\n",
       "      <td>449.456217</td>\n",
       "      <td>449.487106</td>\n",
       "      <td>324.491391</td>\n",
       "      <td>324.544149</td>\n",
       "      <td>351.555806</td>\n",
       "      <td>351.696708</td>\n",
       "    </tr>\n",
       "    <tr>\n",
       "      <th>min</th>\n",
       "      <td>256.700000</td>\n",
       "      <td>255.950000</td>\n",
       "      <td>176.572000</td>\n",
       "      <td>176.441000</td>\n",
       "      <td>276.711000</td>\n",
       "      <td>277.667000</td>\n",
       "    </tr>\n",
       "    <tr>\n",
       "      <th>25%</th>\n",
       "      <td>449.112500</td>\n",
       "      <td>448.612500</td>\n",
       "      <td>244.576750</td>\n",
       "      <td>244.463500</td>\n",
       "      <td>361.393500</td>\n",
       "      <td>361.338750</td>\n",
       "    </tr>\n",
       "    <tr>\n",
       "      <th>50%</th>\n",
       "      <td>1113.125000</td>\n",
       "      <td>1112.275000</td>\n",
       "      <td>717.145000</td>\n",
       "      <td>716.210500</td>\n",
       "      <td>874.354500</td>\n",
       "      <td>875.141500</td>\n",
       "    </tr>\n",
       "    <tr>\n",
       "      <th>75%</th>\n",
       "      <td>1293.750000</td>\n",
       "      <td>1294.225000</td>\n",
       "      <td>939.065500</td>\n",
       "      <td>939.266500</td>\n",
       "      <td>1085.967750</td>\n",
       "      <td>1085.816250</td>\n",
       "    </tr>\n",
       "    <tr>\n",
       "      <th>max</th>\n",
       "      <td>1896.500000</td>\n",
       "      <td>1895.000000</td>\n",
       "      <td>1265.900000</td>\n",
       "      <td>1265.010000</td>\n",
       "      <td>1389.890000</td>\n",
       "      <td>1392.030000</td>\n",
       "    </tr>\n",
       "  </tbody>\n",
       "</table>\n",
       "</div>"
      ],
      "text/plain": [
       "            USD_AM       USD_PM       GBP_AM       GBP_PM      EURO_AM  \\\n",
       "count  4718.000000  4682.000000  4718.000000  4682.000000  4718.000000   \n",
       "mean    959.990812   959.728684   625.068432   624.921846   773.892791   \n",
       "std     449.456217   449.487106   324.491391   324.544149   351.555806   \n",
       "min     256.700000   255.950000   176.572000   176.441000   276.711000   \n",
       "25%     449.112500   448.612500   244.576750   244.463500   361.393500   \n",
       "50%    1113.125000  1112.275000   717.145000   716.210500   874.354500   \n",
       "75%    1293.750000  1294.225000   939.065500   939.266500  1085.967750   \n",
       "max    1896.500000  1895.000000  1265.900000  1265.010000  1389.890000   \n",
       "\n",
       "           EURO_PM  \n",
       "count  4682.000000  \n",
       "mean    773.843716  \n",
       "std     351.696708  \n",
       "min     277.667000  \n",
       "25%     361.338750  \n",
       "50%     875.141500  \n",
       "75%    1085.816250  \n",
       "max    1392.030000  "
      ]
     },
     "execution_count": 7,
     "metadata": {},
     "output_type": "execute_result"
    }
   ],
   "source": [
    "goldrate.describe()"
   ]
  },
  {
   "cell_type": "code",
   "execution_count": 8,
   "id": "heated-gender",
   "metadata": {},
   "outputs": [],
   "source": [
    "%matplotlib inline"
   ]
  },
  {
   "cell_type": "code",
   "execution_count": 10,
   "id": "outside-edinburgh",
   "metadata": {},
   "outputs": [],
   "source": [
    "import matplotlib.pyplot as plt"
   ]
  },
  {
   "cell_type": "code",
   "execution_count": 11,
   "id": "turkish-reset",
   "metadata": {},
   "outputs": [
    {
     "data": {
      "text/plain": [
       "array([[<AxesSubplot:title={'center':'USD_AM'}>,\n",
       "        <AxesSubplot:title={'center':'USD_PM'}>],\n",
       "       [<AxesSubplot:title={'center':'GBP_AM'}>,\n",
       "        <AxesSubplot:title={'center':'GBP_PM'}>],\n",
       "       [<AxesSubplot:title={'center':'EURO_AM'}>,\n",
       "        <AxesSubplot:title={'center':'EURO_PM'}>]], dtype=object)"
      ]
     },
     "execution_count": 11,
     "metadata": {},
     "output_type": "execute_result"
    },
    {
     "data": {
      "image/png": "[encoded data removed]",
      "text/plain": [
       "<Figure size 1440x1440 with 6 Axes>"
      ]
     },
     "metadata": {
      "needs_background": "light"
     },
     "output_type": "display_data"
    }
   ],
   "source": [
    "goldrate.hist(bins=50,figsize=(20, 20))"
   ]
  },
  {
   "cell_type": "code",
   "execution_count": null,
   "id": "fallen-fellowship",
   "metadata": {},
   "outputs": [],
   "source": []
  }
 ],
 "metadata": {
  "kernelspec": {
   "display_name": "Python 3",
   "language": "python",
   "name": "python3"
  },
  "language_info": {
   "codemirror_mode": {
    "name": "ipython",
    "version": 3
   },
   "file_extension": ".py",
   "mimetype": "text/x-python",
   "name": "python",
   "nbconvert_exporter": "python",
   "pygments_lexer": "ipython3",
   "version": "3.7.1"
  }
 },
 "nbformat": 4,
 "nbformat_minor": 5
}
